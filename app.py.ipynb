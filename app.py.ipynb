{
 "cells": [
  {
   "cell_type": "markdown",
   "id": "6f897c4d",
   "metadata": {},
   "source": [
    "### 9.5.1 Set Up the Database and Flask"
   ]
  },
  {
   "cell_type": "code",
   "execution_count": 23,
   "id": "e126a0bf",
   "metadata": {},
   "outputs": [],
   "source": [
    "import datetime as dt\n",
    "import numpy as np\n",
    "import pandas as pd\n",
    "\n",
    "import sqlalchemy\n",
    "from sqlalchemy.ext.automap import automap_base\n",
    "from sqlalchemy.orm import Session\n",
    "from sqlalchemy import create_engine, func\n",
    "from flask import Flask, jsonify"
   ]
  },
  {
   "cell_type": "markdown",
   "id": "534ed3f2",
   "metadata": {},
   "source": [
    "#### Set Up the Database"
   ]
  },
  {
   "cell_type": "code",
   "execution_count": 24,
   "id": "8bcbdba1",
   "metadata": {},
   "outputs": [],
   "source": [
    "# Access the SQLite database\n",
    "engine = create_engine(\"sqlite:///hawaii.sqlite\")\n",
    "\n",
    "# Reflect the database into our classes\n",
    "Base = automap_base()\n",
    "\n",
    "# Reflect our tables\n",
    "Base.prepare(engine, reflect=True)\n",
    "\n",
    "# Save our references to each table\n",
    "Measurement = Base.classes.measurement\n",
    "Station = Base.classes.station\n",
    "\n",
    "# Finally, create a session link from Python to our database\n",
    "session = Session(engine)"
   ]
  },
  {
   "cell_type": "markdown",
   "id": "bd952dd4",
   "metadata": {},
   "source": [
    "#### Set Up Flask"
   ]
  },
  {
   "cell_type": "code",
   "execution_count": 25,
   "id": "48066965",
   "metadata": {},
   "outputs": [],
   "source": [
    "app = Flask(__name__)"
   ]
  },
  {
   "cell_type": "code",
   "execution_count": 26,
   "id": "5c4c9839",
   "metadata": {},
   "outputs": [],
   "source": [
    "# Define the welcome route\n",
    "@app.route(\"/\")\n",
    "\n",
    "# Add the routing information for each of the other routes. \n",
    "# For this create a function and the return statement will have f-strings as a reference to all of the other routes. \n",
    "# /api/v1.0/ means this is version 1 of our application\n",
    "\n",
    "\n",
    "def welcome():\n",
    "    return(\n",
    "    '''\n",
    "    Welcome to the Climate Analysis API!\n",
    "    Available Routes:\n",
    "    /api/v1.0/precipitation\n",
    "    /api/v1.0/stations\n",
    "    /api/v1.0/tobs\n",
    "    /api/v1.0/temp/start/end\n",
    "    ''')"
   ]
  },
  {
   "cell_type": "markdown",
   "id": "70bbf483",
   "metadata": {},
   "source": [
    "#### 9.5.3 Precipitation Route"
   ]
  },
  {
   "cell_type": "code",
   "execution_count": 27,
   "id": "7698a981",
   "metadata": {},
   "outputs": [],
   "source": [
    "# Create a dictionary with the date as the key and the precipitation as the value at the end of the function\n",
    "# Jsonify() is a function that converts the dictionary to a JSON file.\n",
    "\n",
    "@app.route(\"/api/v1.0/precipitation\")\n",
    "def precipitation():\n",
    "    prev_year = dt.date(2017, 8, 23) - dt.timedelta(Days=365)\n",
    "    precipitation = session.query(Measurement.date, Measurement.prcp).\\\n",
    "        filter(Measurement.date >= prev_year).all()\n",
    "    precip = {date: prcp for date, prcp in precipitation}\n",
    "    return jsonify(precip)"
   ]
  },
  {
   "cell_type": "markdown",
   "id": "91d17c85",
   "metadata": {},
   "source": [
    "#### 9.5.4 Stations Route"
   ]
  },
  {
   "cell_type": "code",
   "execution_count": 28,
   "id": "e40202e7",
   "metadata": {},
   "outputs": [],
   "source": [
    "# Unraveling our results into a one-dimensional array using the function np.ravel(), with results as our parameter\n",
    "# To convert the results to a list use the list function - list(). \n",
    "# Then jsonify the list and return it as JSON\n",
    "\n",
    "@app.route(\"/api/vi.0/stations\")\n",
    "def stations(): \n",
    "    results = session.query(Station.station).all()\n",
    "    stations = list(np.ravel(results))\n",
    "    return jsonify(stations=stations)\n"
   ]
  },
  {
   "cell_type": "markdown",
   "id": "b0e425a9",
   "metadata": {},
   "source": [
    "#### 9.5.5 Monthly Temperature Route"
   ]
  },
  {
   "cell_type": "code",
   "execution_count": 29,
   "id": "b9988cbe",
   "metadata": {},
   "outputs": [],
   "source": [
    "@app.route(\"/api/v1.0/tobs\")\n",
    "def temp_monthly():\n",
    "    prev_year = dt.date(2017, 8, 23) - dt.timedelta(days=365)\n",
    "    results = session.query(Measurement.tobs).\\\n",
    "        filter(Measurement.station == 'USC00519281').\\\n",
    "        filter(Measurement.date >= prev_year).all()\n",
    "    temps = list(np.unravel(results))\n",
    "    return jsonify(temps=temps)"
   ]
  },
  {
   "cell_type": "markdown",
   "id": "3666ca65",
   "metadata": {},
   "source": [
    "#### 9.5.6 Statistics Route"
   ]
  },
  {
   "cell_type": "code",
   "execution_count": 31,
   "id": "c64d46ed",
   "metadata": {},
   "outputs": [],
   "source": [
    "@app.route(\"/api/v1.0/temp/<start>\")\n",
    "@app.route(\"/api/v1.0/temp/<start>/<end>\")\n",
    "def stats(start=None, end=None):\n",
    "    sel = [func.min(Measurement.tobs), func.avg(Measurement.tobs), func.max(Measurement.tobs)]\n",
    "    \n",
    "    if not end:\n",
    "        results = session.query(*sel).\\\n",
    "            filter(Measurement.date >= start).all()\n",
    "        temps = list(np.ravel(results))\n",
    "        \n",
    "        results = session.query(*sel).\\\n",
    "            filter = (Measurement.date >= start).\\\n",
    "            filter = (Measurement.date <= end).all()\n",
    "        temps = list (np.ravel(results))\n",
    "    return jsonify(temps=temps)"
   ]
  },
  {
   "cell_type": "code",
   "execution_count": null,
   "id": "2ce7825f",
   "metadata": {},
   "outputs": [],
   "source": []
  }
 ],
 "metadata": {
  "kernelspec": {
   "display_name": "PythonData",
   "language": "python",
   "name": "pythondata"
  },
  "language_info": {
   "codemirror_mode": {
    "name": "ipython",
    "version": 3
   },
   "file_extension": ".py",
   "mimetype": "text/x-python",
   "name": "python",
   "nbconvert_exporter": "python",
   "pygments_lexer": "ipython3",
   "version": "3.9.12"
  }
 },
 "nbformat": 4,
 "nbformat_minor": 5
}
